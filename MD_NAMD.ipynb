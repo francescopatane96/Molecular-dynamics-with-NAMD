{
  "nbformat": 4,
  "nbformat_minor": 0,
  "metadata": {
    "colab": {
      "name": "MD NAMD.ipynb",
      "provenance": [],
      "authorship_tag": "ABX9TyPBlFcdvJ4Y0N2mb4p8qosl",
      "include_colab_link": true
    },
    "kernelspec": {
      "name": "python3",
      "display_name": "Python 3"
    },
    "language_info": {
      "name": "python"
    },
    "accelerator": "GPU",
    "gpuClass": "standard"
  },
  "cells": [
    {
      "cell_type": "markdown",
      "metadata": {
        "id": "view-in-github",
        "colab_type": "text"
      },
      "source": [
        "<a href=\"https://colab.research.google.com/github/francescopatane96/Molecular-dynamics-with-NAMD/blob/main/MD_NAMD.ipynb\" target=\"_parent\"><img src=\"https://colab.research.google.com/assets/colab-badge.svg\" alt=\"Open In Colab\"/></a>"
      ]
    },
    {
      "cell_type": "code",
      "source": [
        "#Mount Google Drive\n",
        "from google.colab import drive\n",
        "drive.mount('/content/drive')\n",
        "%cd /content/drive"
      ],
      "metadata": {
        "id": "iKqWbLc3xfV6",
        "colab": {
          "base_uri": "https://localhost:8080/"
        },
        "outputId": "0cefa6bf-0de2-489e-e86e-38b7955688a8"
      },
      "execution_count": null,
      "outputs": [
        {
          "output_type": "stream",
          "name": "stdout",
          "text": [
            "Mounted at /content/drive\n",
            "/content/drive\n"
          ]
        }
      ]
    },
    {
      "cell_type": "code",
      "source": [
        "#Change directory\n",
        "%cd /content/drive/MyDrive/md"
      ],
      "metadata": {
        "id": "NgENO7aQxh2g",
        "colab": {
          "base_uri": "https://localhost:8080/"
        },
        "outputId": "bc2764a8-84de-42b0-f1bb-3372ca6b5dbd"
      },
      "execution_count": null,
      "outputs": [
        {
          "output_type": "stream",
          "name": "stdout",
          "text": [
            "/content/drive/MyDrive/md\n"
          ]
        }
      ]
    },
    {
      "cell_type": "code",
      "source": [
        "#Download, configure and check NAMD\n",
        "%%bash\n",
        "wget https://www.ks.uiuc.edu/Research/namd/2.14/download/946183/NAMD_2.14_Linux-x86_64-multicore-CUDA.tar.gz\n",
        "tar -zxf NAMD_2.14_Linux-x86_64-multicore-CUDA.tar.gz\n",
        "/content/drive/MyDrive/md/namdgpu/namd2 +auto-provision\n",
        "\n",
        "\n"
      ],
      "metadata": {
        "id": "ydPAT4dXxlap"
      },
      "execution_count": null,
      "outputs": []
    },
    {
      "cell_type": "code",
      "source": [
        "#Download VMD (used to generate pdb and psf file for the experiment, and for run tcl scripts)\n",
        "%%bash\n",
        "wget https://www.ks.uiuc.edu/Research/vmd/vmd-1.9.3/files/final/vmd-1.9.3.bin.LINUXAMD64.text.tar.gz\n",
        "tar -zxf vmd-1.9.3.bin.LINUXAMD64.text.tar.gz\n",
        "cd vmd-1.9.3/\n",
        "./configure\n",
        "cd src\n",
        "sudo make install"
      ],
      "metadata": {
        "id": "t5kQRGNGxoVy"
      },
      "execution_count": null,
      "outputs": []
    },
    {
      "cell_type": "code",
      "source": [
        "#Run VMD\n",
        "!vmd"
      ],
      "metadata": {
        "id": "REauVsMYxrji"
      },
      "execution_count": null,
      "outputs": []
    },
    {
      "cell_type": "code",
      "source": [
        "!ls"
      ],
      "metadata": {
        "id": "5n_9jCkVxvpx"
      },
      "execution_count": null,
      "outputs": []
    },
    {
      "cell_type": "code",
      "source": [
        "#Download or upload CHARMM-GUI file\n",
        "\n",
        "!curl 'https://charmm-gui.org/?doc=input/download&jobid=############' \\\n",
        "  -H 'Connection: keep-alive' \\\n",
        "  -H 'sec-ch-ua: \"Google Chrome\";v=\"95\", \"Chromium\";v=\"95\", \";Not A Brand\";v=\"99\"' \\\n",
        "  -H 'sec-ch-ua-mobile: ?0' \\\n",
        "  -H 'sec-ch-ua-platform: \"Windows\"' \\\n",
        "  -H 'Upgrade-Insecure-Requests: 1' \\\n",
        "  -H 'User-Agent: Mozilla/5.0 (Windows NT 10.0; Win64; x64) AppleWebKit/537.36 (KHTML, like Gecko) Chrome/95.0.4638.54 Safari/537.36' \\\n",
        "  -H 'Accept: text/html,application/xhtml+xml,application/xml;q=0.9,image/avif,image/webp,image/apng,*/*;q=0.8,application/signed-exchange;v=b3;q=0.9' \\\n",
        "  -H 'Sec-Fetch-Site: same-origin' \\\n",
        "  -H 'Sec-Fetch-Mode: navigate' \\\n",
        "  -H 'Sec-Fetch-User: ?1' \\\n",
        "  -H 'Sec-Fetch-Dest: document' \\\n",
        "  -H 'Referer: https://charmm-gui.org/?doc=input/solution&step=4' \\\n",
        "  -H 'Accept-Language: en-US,en;q=0.9,ar-AE;q=0.8,ar;q=0.7' \\\n",
        "  -H 'Cookie: __utma=194423551.1282894827.1616081420.1616513672.1616761919.7; _ga=GA1.2.1282894827.1616081420; PHPSESSID=640if26cvc91d0tvuo4v56q16k; visit=ok; _gid=GA1.2.1908401265.1636701249' \\\n",
        "  -H 'sec-gpc: 1' \\\n",
        "  --compressed \\\n",
        "  --output charmm.tgz"
      ],
      "metadata": {
        "id": "RxDue7yJxy5x"
      },
      "execution_count": null,
      "outputs": []
    },
    {
      "cell_type": "code",
      "source": [
        "#Extract tgz\n",
        "!tar -xf charmm.tgz"
      ],
      "metadata": {
        "id": "HochmwQo95AD"
      },
      "execution_count": null,
      "outputs": []
    },
    {
      "cell_type": "code",
      "source": [
        "#Change accessibility of the google drive folder\n",
        "!chmod 755 -R /content/drive/MyDrive/md"
      ],
      "metadata": {
        "id": "iVj1tjLYx1m6"
      },
      "execution_count": null,
      "outputs": []
    },
    {
      "cell_type": "code",
      "source": [
        "#Run NAMD using the following command.\n",
        "#p2 is the maximum, only 2 CPUs available\n",
        "\n",
        "!/content/drive/MyDrive/md/namdgpu/charmrun /content/drive/MyDrive/md/namdgpu/namd2 +idlepoll +p2 ws_eq.conf > minim.log"
      ],
      "metadata": {
        "id": "kDRtWR2Lx47r"
      },
      "execution_count": null,
      "outputs": []
    },
    {
      "cell_type": "markdown",
      "source": [
        "Rememeber to save the log file on your computer or on the drive"
      ],
      "metadata": {
        "id": "wE6obhICchp4"
      }
    }
  ]
}