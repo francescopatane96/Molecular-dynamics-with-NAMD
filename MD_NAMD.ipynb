{
  "nbformat": 4,
  "nbformat_minor": 0,
  "metadata": {
    "colab": {
      "name": "MD NAMD.ipynb",
      "provenance": [],
      "authorship_tag": "ABX9TyN2uW4sd/16hUOZnI7CK6xd",
      "include_colab_link": true
    },
    "kernelspec": {
      "name": "python3",
      "display_name": "Python 3"
    },
    "language_info": {
      "name": "python"
    },
    "accelerator": "GPU",
    "gpuClass": "standard"
  },
  "cells": [
    {
      "cell_type": "markdown",
      "metadata": {
        "id": "view-in-github",
        "colab_type": "text"
      },
      "source": [
        "<a href=\"https://colab.research.google.com/github/francescopatane96/Molecular-dynamics-with-NAMD/blob/main/MD_NAMD.ipynb\" target=\"_parent\"><img src=\"https://colab.research.google.com/assets/colab-badge.svg\" alt=\"Open In Colab\"/></a>"
      ]
    },
    {
      "cell_type": "markdown",
      "source": [
        "**Run NAMD GPU in Colab by @francescopatane96**\n",
        "\n",
        "1. NAMD config files are available in my Github page\n",
        "2. Upload all files (config, psf, pdb) to your Google Drive after creating a folder (without space in the filename)\n",
        "3. Run the experiment in the same folder of Google Drive after mounting the drive\n",
        "\n",
        "Contact me if you have any troubles or problem!\n",
        "francesco.patane@live.it\n",
        "\n",
        "Important: enable GPU mode by Runtime menu > Change Runtime type > choose GPU in hardware Accelerator and click OK.\n",
        "\n",
        "Limitations: Every 12hrs the data/Colab gets reset, so in free account you could use it for training/learning purpose only. Every 12hrs you have to start from 1st cell, like compilation etc. For paid accounts it is 24hrs. Make sure your colab webpage is active, else the compute engine gets disconnected.\n",
        "\n",
        "Before to run the simulation you have to download or obtain your pdb file (structure of the protein) from PDB etc... Then you have to add hydrogen atoms and solvate the protein using VMD, and calculate che cell size. Finally you can run the experiment using NAMD. \n",
        "\n",
        "You can utilize VMD on this colab page.\n",
        "\n",
        "How to use NAMD GPU: https://www.ks.uiuc.edu/Research/namd/"
      ],
      "metadata": {
        "id": "Ntf3W19KtA7j"
      }
    },
    {
      "cell_type": "code",
      "source": [
        "#Check Resources\n",
        "!lscpu\n",
        "!nvidia-smi"
      ],
      "metadata": {
        "id": "8YV8pDx7siRr"
      },
      "execution_count": null,
      "outputs": []
    },
    {
      "cell_type": "code",
      "source": [
        "#Mount Google Drive\n",
        "from google.colab import drive\n",
        "drive.mount('/content/drive')\n",
        "%cd /content/drive"
      ],
      "metadata": {
        "id": "iKqWbLc3xfV6"
      },
      "execution_count": null,
      "outputs": []
    },
    {
      "cell_type": "code",
      "source": [
        "#Change directory\n",
        "%cd /content/drive/MyDrive/md"
      ],
      "metadata": {
        "id": "NgENO7aQxh2g"
      },
      "execution_count": null,
      "outputs": []
    },
    {
      "cell_type": "code",
      "source": [
        "#Download, configure and check NAMD\n",
        "%%bash\n",
        "wget https://www.ks.uiuc.edu/Research/namd/2.14/download/946183/NAMD_2.14_Linux-x86_64-multicore-CUDA.tar.gz\n",
        "\n",
        "\n",
        "\n",
        "\n",
        "\n"
      ],
      "metadata": {
        "id": "ydPAT4dXxlap"
      },
      "execution_count": null,
      "outputs": []
    },
    {
      "cell_type": "code",
      "source": [
        "!tar -zxf NAMD_2.14_Linux-x86_64-multicore-CUDA.tar.gz"
      ],
      "metadata": {
        "id": "foUSzoqxKo7K"
      },
      "execution_count": 12,
      "outputs": []
    },
    {
      "cell_type": "code",
      "source": [
        "!/content/drive/MyDrive/md/NAMD_2.14_Linux-x86_64-multicore-CUDA/namd2 +auto-provision"
      ],
      "metadata": {
        "id": "SAITJq-LLIQP"
      },
      "execution_count": null,
      "outputs": []
    },
    {
      "cell_type": "code",
      "source": [
        "#Download VMD (used to generate pdb and psf file for the experiment, for run tcl scripts and for result analysis)\n",
        "%%bash\n",
        "wget https://www.ks.uiuc.edu/Research/vmd/vmd-1.9.3/files/final/vmd-1.9.3.bin.LINUXAMD64.text.tar.gz\n",
        "tar -zxf vmd-1.9.3.bin.LINUXAMD64.text.tar.gz\n",
        "cd vmd-1.9.3/\n",
        "./configure\n",
        "cd src\n",
        "sudo make install"
      ],
      "metadata": {
        "id": "t5kQRGNGxoVy"
      },
      "execution_count": null,
      "outputs": []
    },
    {
      "cell_type": "markdown",
      "source": [
        "VMD could run in text mode with many tcl scripts.\n",
        "\n",
        "Scripts are available in my Github page\n"
      ],
      "metadata": {
        "id": "dTDRL4dNvHaK"
      }
    },
    {
      "cell_type": "code",
      "source": [
        "#Run VMD\n",
        "!vmd"
      ],
      "metadata": {
        "id": "REauVsMYxrji"
      },
      "execution_count": null,
      "outputs": []
    },
    {
      "cell_type": "code",
      "source": [
        "!ls"
      ],
      "metadata": {
        "id": "5n_9jCkVxvpx"
      },
      "execution_count": null,
      "outputs": []
    },
    {
      "cell_type": "code",
      "source": [
        "#Download or upload CHARMM-GUI file\n",
        "\n",
        "!curl 'https://charmm-gui.org/?doc=input/download&jobid=############' \\\n",
        "  -H 'Connection: keep-alive' \\\n",
        "  -H 'sec-ch-ua: \"Google Chrome\";v=\"95\", \"Chromium\";v=\"95\", \";Not A Brand\";v=\"99\"' \\\n",
        "  -H 'sec-ch-ua-mobile: ?0' \\\n",
        "  -H 'sec-ch-ua-platform: \"Windows\"' \\\n",
        "  -H 'Upgrade-Insecure-Requests: 1' \\\n",
        "  -H 'User-Agent: Mozilla/5.0 (Windows NT 10.0; Win64; x64) AppleWebKit/537.36 (KHTML, like Gecko) Chrome/95.0.4638.54 Safari/537.36' \\\n",
        "  -H 'Accept: text/html,application/xhtml+xml,application/xml;q=0.9,image/avif,image/webp,image/apng,*/*;q=0.8,application/signed-exchange;v=b3;q=0.9' \\\n",
        "  -H 'Sec-Fetch-Site: same-origin' \\\n",
        "  -H 'Sec-Fetch-Mode: navigate' \\\n",
        "  -H 'Sec-Fetch-User: ?1' \\\n",
        "  -H 'Sec-Fetch-Dest: document' \\\n",
        "  -H 'Referer: https://charmm-gui.org/?doc=input/solution&step=4' \\\n",
        "  -H 'Accept-Language: en-US,en;q=0.9,ar-AE;q=0.8,ar;q=0.7' \\\n",
        "  -H 'Cookie: __utma=194423551.1282894827.1616081420.1616513672.1616761919.7; _ga=GA1.2.1282894827.1616081420; PHPSESSID=640if26cvc91d0tvuo4v56q16k; visit=ok; _gid=GA1.2.1908401265.1636701249' \\\n",
        "  -H 'sec-gpc: 1' \\\n",
        "  --compressed \\\n",
        "  --output charmm.tgz"
      ],
      "metadata": {
        "id": "RxDue7yJxy5x"
      },
      "execution_count": null,
      "outputs": []
    },
    {
      "cell_type": "code",
      "source": [
        "#Extract tgz\n",
        "!tar -xf charmm.tgz"
      ],
      "metadata": {
        "id": "HochmwQo95AD"
      },
      "execution_count": null,
      "outputs": []
    },
    {
      "cell_type": "code",
      "source": [
        "#Change accessibility of the google drive folder\n",
        "!chmod 755 -R /content/drive/MyDrive/md"
      ],
      "metadata": {
        "id": "iVj1tjLYx1m6"
      },
      "execution_count": null,
      "outputs": []
    },
    {
      "cell_type": "code",
      "source": [
        "#Run NAMD using the following command.\n",
        "#p2 is the maximum, only 2 CPUs available\n",
        "\n",
        "!/content/drive/MyDrive/md/namdgpu/charmrun /content/drive/MyDrive/md/namdgpu/namd2 +idlepoll +p2 ws_eq.conf > minim.log"
      ],
      "metadata": {
        "id": "kDRtWR2Lx47r"
      },
      "execution_count": null,
      "outputs": []
    },
    {
      "cell_type": "markdown",
      "source": [
        "Rememeber to save the log file on your computer or on the drive\n",
        "\n",
        "**Analysis such as RMSD, RMSF, RoG, HBond, SASA are possible via TCL scripts**\n"
      ],
      "metadata": {
        "id": "wE6obhICchp4"
      }
    }
  ]
}